{
 "cells": [
  {
   "cell_type": "code",
   "execution_count": null,
   "metadata": {},
   "outputs": [],
   "source": [
    "#1.\tWrite a Python program to print \"Hello Python\"\n",
    "#method 1:\n",
    "a=input(\" Enter a text: \")\n",
    "print(a)\n",
    "\n",
    "#method 2:\n",
    "print(\"Hello Python\")"
   ]
  },
  {
   "cell_type": "code",
   "execution_count": null,
   "metadata": {},
   "outputs": [],
   "source": [
    "#2.\tWrite a Python program to do arithmetical operations addition and division\n",
    "def arithmetical_operations(a, b):\n",
    "    return(a+b, a-b, a*b, a/b)\n"
   ]
  },
  {
   "cell_type": "code",
   "execution_count": null,
   "metadata": {},
   "outputs": [],
   "source": [
    "\n",
    "add, sub, multi, divi=arithmetical_operations(5,8)"
   ]
  },
  {
   "cell_type": "code",
   "execution_count": 7,
   "metadata": {},
   "outputs": [
    {
     "data": {
      "text/plain": [
       "11.25"
      ]
     },
     "execution_count": 7,
     "metadata": {},
     "output_type": "execute_result"
    }
   ],
   "source": [
    "#3.\tWrite a Python program to find the area of a triangle\n",
    "def angle(h, b):\n",
    "    return((h*b)/2)\n",
    "angle(4.5, 5)\n",
    "    "
   ]
  },
  {
   "cell_type": "code",
   "execution_count": 8,
   "metadata": {},
   "outputs": [
    {
     "name": "stdout",
     "output_type": "stream",
     "text": [
      "The value of x:  20\n",
      "The value of y:  10\n"
     ]
    }
   ],
   "source": [
    "#4.\tWrite a Python program to swap two variables\n",
    "x=10\n",
    "y=20\n",
    "\n",
    "x,y=y,x\n",
    "print(\"The value of x: \", x)\n",
    "print(\"The value of y: \", y)\n"
   ]
  },
  {
   "cell_type": "code",
   "execution_count": 4,
   "metadata": {},
   "outputs": [
    {
     "name": "stdout",
     "output_type": "stream",
     "text": [
      "[5, 14, 19, 18, 17]\n"
     ]
    }
   ],
   "source": [
    "#5.\tWrite a Python program to generate a random number\n",
    "\n",
    "import random\n",
    "randomlist=[]\n",
    "for i in range(0,5):\n",
    "    n=random.randint(1, 20)\n",
    "    randomlist.append(n)\n",
    "print(randomlist)\n"
   ]
  }
 ],
 "metadata": {
  "kernelspec": {
   "display_name": "Python 3",
   "language": "python",
   "name": "python3"
  },
  "language_info": {
   "codemirror_mode": {
    "name": "ipython",
    "version": 3
   },
   "file_extension": ".py",
   "mimetype": "text/x-python",
   "name": "python",
   "nbconvert_exporter": "python",
   "pygments_lexer": "ipython3",
   "version": "3.8.5"
  }
 },
 "nbformat": 4,
 "nbformat_minor": 4
}
