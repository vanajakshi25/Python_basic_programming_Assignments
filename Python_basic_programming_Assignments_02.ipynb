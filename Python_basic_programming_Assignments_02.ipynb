{
 "cells": [
  {
   "cell_type": "code",
   "execution_count": 10,
   "metadata": {},
   "outputs": [
    {
     "name": "stdout",
     "output_type": "stream",
     "text": [
      "Enter the value in kilometer: 200\n",
      "200.0 kilometer is equal to 124.274 miles\n"
     ]
    }
   ],
   "source": [
    "# 01. Write a Python program to convert kilometers to miles?\n",
    "\n",
    "km = float(input(\"Enter the value in kilometer: \"))\n",
    "\n",
    "conv_fact=0.62137\n",
    "\n",
    "miles = km * conv_fact\n",
    "print(\"{0} kilometer is equal to {1} miles\".format(km, miles))"
   ]
  },
  {
   "cell_type": "code",
   "execution_count": 12,
   "metadata": {},
   "outputs": [
    {
     "name": "stdout",
     "output_type": "stream",
     "text": [
      " Enter the value of temperature in celsius: -40\n",
      "-40.0 degree celsius is equal to -40.0 Fahrenheit\n"
     ]
    }
   ],
   "source": [
    "# 02.Write a Python program to convert Celsius to Fahrenheit?\n",
    "\n",
    "celsius=float(input(\" Enter the value of temperature in celsius: \"))\n",
    "\n",
    "conv_fact=1.8\n",
    "\n",
    "Fahrenheit = (celsius*conv_fact)+32\n",
    "print(\"{0} degree celsius is equal to {1} Fahrenheit\".format(celsius, Fahrenheit))"
   ]
  },
  {
   "cell_type": "code",
   "execution_count": 17,
   "metadata": {},
   "outputs": [
    {
     "name": "stdout",
     "output_type": "stream",
     "text": [
      "Enter Year: 1987\n",
      "Enter Month: 05\n",
      "      May 1987\n",
      "Mo Tu We Th Fr Sa Su\n",
      "             1  2  3\n",
      " 4  5  6  7  8  9 10\n",
      "11 12 13 14 15 16 17\n",
      "18 19 20 21 22 23 24\n",
      "25 26 27 28 29 30 31\n",
      "\n"
     ]
    }
   ],
   "source": [
    "# 03.Write a Python program to display calendar?\n",
    "\n",
    "import calendar\n",
    "\n",
    "yy = int(input(\"Enter Year: \"))\n",
    "mm = int(input(\"Enter Month: \"))\n",
    "\n",
    "print(calendar.month(yy, mm))"
   ]
  },
  {
   "cell_type": "code",
   "execution_count": 19,
   "metadata": {},
   "outputs": [
    {
     "name": "stdout",
     "output_type": "stream",
     "text": [
      "Enter value: 1\n",
      "Enter value: 5\n",
      "Enter value: 6\n",
      "the solution are (-2+0j) and (-3+0j)\n"
     ]
    }
   ],
   "source": [
    "#04. Write a Python program to solve quadratic equation?\n",
    "# quadratic equation is ax**2+bx+c=0\n",
    "\n",
    "import cmath\n",
    "\n",
    "a= int(input(\"Enter value: \"))\n",
    "b= int(input(\"Enter value: \"))\n",
    "c= int(input(\"Enter value: \"))\n",
    "\n",
    "d= (b*b-4*a*c)\n",
    "\n",
    "ans1=(-b+ cmath.sqrt(d))/(2*a)\n",
    "ans2=(-b- cmath.sqrt(d))/(2*a)\n",
    "\n",
    "print(\"the solution are {0} and {1}\".format(ans1, ans2))"
   ]
  },
  {
   "cell_type": "code",
   "execution_count": 20,
   "metadata": {},
   "outputs": [
    {
     "name": "stdout",
     "output_type": "stream",
     "text": [
      "5\n",
      "5\n"
     ]
    }
   ],
   "source": [
    "#05. Write a Python program to swap two variables without temp variable?\n",
    "\n",
    "a=input(\"Enter value: \")\n",
    "b=input(\"Enter value: \")\n",
    "\n",
    "\n",
    "\n"
   ]
  },
  {
   "cell_type": "code",
   "execution_count": null,
   "metadata": {},
   "outputs": [],
   "source": []
  }
 ],
 "metadata": {
  "kernelspec": {
   "display_name": "Python 3",
   "language": "python",
   "name": "python3"
  },
  "language_info": {
   "codemirror_mode": {
    "name": "ipython",
    "version": 3
   },
   "file_extension": ".py",
   "mimetype": "text/x-python",
   "name": "python",
   "nbconvert_exporter": "python",
   "pygments_lexer": "ipython3",
   "version": "3.8.5"
  }
 },
 "nbformat": 4,
 "nbformat_minor": 4
}
